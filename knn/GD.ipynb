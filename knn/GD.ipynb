{
 "cells": [
  {
   "cell_type": "code",
   "execution_count": 1,
   "metadata": {},
   "outputs": [
    {
     "data": {
      "text/plain": [
       "<torch._C.Generator at 0x17db27384f0>"
      ]
     },
     "execution_count": 1,
     "metadata": {},
     "output_type": "execute_result"
    }
   ],
   "source": [
    "import torch\n",
    "import numpy as np\n",
    "from torch.autograd import Variable\n",
    "\n",
    "torch.manual_seed(2017)\n",
    "\n"
   ]
  },
  {
   "cell_type": "code",
   "execution_count": 2,
   "metadata": {},
   "outputs": [],
   "source": [
    "# 读入数据 x 和 y\n",
    "x_train = np.array([[3.3], [4.4], [5.5], [6.71], [6.93], [4.168],\n",
    "                    [9.779], [6.182], [7.59], [2.167], [7.042],\n",
    "                    [10.791], [5.313], [7.997], [3.1]], dtype=np.float32)\n",
    "\n",
    "y_train = np.array([[1.7], [2.76], [2.09], [3.19], [1.694], [1.573],\n",
    "                    [3.366], [2.596], [2.53], [1.221], [2.827],\n",
    "                    [3.465], [1.65], [2.904], [1.3]], dtype=np.float32)"
   ]
  },
  {
   "cell_type": "code",
   "execution_count": 3,
   "metadata": {},
   "outputs": [
    {
     "data": {
      "text/plain": [
       "[<matplotlib.lines.Line2D at 0x17db38c2a58>]"
      ]
     },
     "execution_count": 3,
     "metadata": {},
     "output_type": "execute_result"
    },
    {
     "data": {
      "image/png": "[encoded data removed]",
      "text/plain": [
       "<matplotlib.figure.Figure at 0x17db2d21438>"
      ]
     },
     "metadata": {},
     "output_type": "display_data"
    }
   ],
   "source": [
    "# 画出图像\n",
    "import matplotlib.pyplot as plt\n",
    "%matplotlib inline\n",
    "\n",
    "plt.plot(x_train, y_train, 'bo')"
   ]
  },
  {
   "cell_type": "code",
   "execution_count": 4,
   "metadata": {},
   "outputs": [],
   "source": [
    "# 转换成 Tensor\n",
    "x_train = torch.from_numpy(x_train)\n",
    "y_train = torch.from_numpy(y_train)\n",
    "\n",
    "# 定义参数 w 和 b\n",
    "w = Variable(torch.randn(1), requires_grad=True) # 随机初始化\n",
    "b = Variable(torch.zeros(1), requires_grad=True) # 使用 0 进行初始化"
   ]
  },
  {
   "cell_type": "code",
   "execution_count": 5,
   "metadata": {},
   "outputs": [],
   "source": [
    "# 构建线性回归模型\n",
    "x_train = Variable(x_train)\n",
    "y_train = Variable(y_train)\n",
    "\n",
    "def linear_model(x):\n",
    "    return x * w + b"
   ]
  },
  {
   "cell_type": "code",
   "execution_count": 6,
   "metadata": {},
   "outputs": [],
   "source": [
    "y_ = linear_model(x_train)"
   ]
  },
  {
   "cell_type": "code",
   "execution_count": 7,
   "metadata": {},
   "outputs": [],
   "source": [
    "# 计算误差\n",
    "def get_loss(y_, y):\n",
    "    return torch.mean((y_ - y_train) ** 2)\n",
    "\n",
    "loss = get_loss(y_, y_train)"
   ]
  },
  {
   "cell_type": "code",
   "execution_count": 8,
   "metadata": {},
   "outputs": [
    {
     "name": "stdout",
     "output_type": "stream",
     "text": [
      "tensor(153.3520, grad_fn=<MeanBackward1>)\n"
     ]
    }
   ],
   "source": [
    "\n",
    "\n",
    "# 打印一下看看 loss 的大小\n",
    "print(loss)\n",
    "\n"
   ]
  },
  {
   "cell_type": "code",
   "execution_count": 9,
   "metadata": {},
   "outputs": [],
   "source": [
    "\n",
    "\n",
    "# 自动求导\n",
    "loss.backward()\n",
    "\n"
   ]
  },
  {
   "cell_type": "code",
   "execution_count": 10,
   "metadata": {},
   "outputs": [
    {
     "name": "stdout",
     "output_type": "stream",
     "text": [
      "tensor([161.0043])\n",
      "tensor([22.8730])\n"
     ]
    }
   ],
   "source": [
    "# 查看 w 和 b 的梯度\n",
    "print(w.grad)\n",
    "print(b.grad)"
   ]
  },
  {
   "cell_type": "code",
   "execution_count": 11,
   "metadata": {},
   "outputs": [],
   "source": [
    "\n",
    "\n",
    "# 更新一次参数\n",
    "w.data = w.data - 1e-2 * w.grad.data\n",
    "b.data = b.data - 1e-2 * b.grad.data\n",
    "\n"
   ]
  },
  {
   "cell_type": "code",
   "execution_count": 12,
   "metadata": {},
   "outputs": [
    {
     "data": {
      "text/plain": [
       "<matplotlib.legend.Legend at 0x17db39698d0>"
      ]
     },
     "execution_count": 12,
     "metadata": {},
     "output_type": "execute_result"
    },
    {
     "data": {
      "image/png": "[encoded data removed]",
      "text/plain": [
       "<matplotlib.figure.Figure at 0x17db39179e8>"
      ]
     },
     "metadata": {},
     "output_type": "display_data"
    }
   ],
   "source": [
    "y_ = linear_model(x_train)\n",
    "plt.plot(x_train.data.numpy(), y_train.data.numpy(), 'bo', label='real')\n",
    "plt.plot(x_train.data.numpy(), y_.data.numpy(), 'ro', label='estimated')\n",
    "plt.legend()"
   ]
  },
  {
   "cell_type": "code",
   "execution_count": 13,
   "metadata": {},
   "outputs": [
    {
     "name": "stdout",
     "output_type": "stream",
     "text": [
      "epoch: 0, loss: 3.135772228240967\n",
      "epoch: 1, loss: 2.6674253940582275\n",
      "epoch: 2, loss: 2.276499032974243\n",
      "epoch: 3, loss: 1.9501922130584717\n",
      "epoch: 4, loss: 1.677822232246399\n",
      "epoch: 5, loss: 1.450471043586731\n",
      "epoch: 6, loss: 1.2606958150863647\n",
      "epoch: 7, loss: 1.1022840738296509\n",
      "epoch: 8, loss: 0.9700514078140259\n",
      "epoch: 9, loss: 0.8596690893173218\n",
      "epoch: 10, loss: 0.7675243020057678\n",
      "epoch: 11, loss: 0.6906023621559143\n",
      "epoch: 12, loss: 0.6263866424560547\n",
      "epoch: 13, loss: 0.5727759599685669\n",
      "epoch: 14, loss: 0.5280174612998962\n",
      "epoch: 15, loss: 0.49064749479293823\n",
      "epoch: 16, loss: 0.45944443345069885\n",
      "epoch: 17, loss: 0.4333888590335846\n",
      "epoch: 18, loss: 0.41162970662117004\n",
      "epoch: 19, loss: 0.3934566378593445\n",
      "epoch: 20, loss: 0.3782770037651062\n",
      "epoch: 21, loss: 0.36559566855430603\n",
      "epoch: 22, loss: 0.3549995422363281\n",
      "epoch: 23, loss: 0.3461441099643707\n",
      "epoch: 24, loss: 0.3387413024902344\n",
      "epoch: 25, loss: 0.3325512111186981\n",
      "epoch: 26, loss: 0.32737332582473755\n",
      "epoch: 27, loss: 0.32304033637046814\n",
      "epoch: 28, loss: 0.31941232085227966\n",
      "epoch: 29, loss: 0.3163728713989258\n",
      "epoch: 30, loss: 0.31382474303245544\n",
      "epoch: 31, loss: 0.3116869032382965\n",
      "epoch: 32, loss: 0.3098910450935364\n",
      "epoch: 33, loss: 0.30838099122047424\n",
      "epoch: 34, loss: 0.30710938572883606\n",
      "epoch: 35, loss: 0.3060367703437805\n",
      "epoch: 36, loss: 0.30513036251068115\n",
      "epoch: 37, loss: 0.30436259508132935\n",
      "epoch: 38, loss: 0.3037106394767761\n",
      "epoch: 39, loss: 0.3031553328037262\n",
      "epoch: 40, loss: 0.3026806116104126\n",
      "epoch: 41, loss: 0.3022732138633728\n",
      "epoch: 42, loss: 0.3019220530986786\n",
      "epoch: 43, loss: 0.3016177713871002\n",
      "epoch: 44, loss: 0.30135267972946167\n",
      "epoch: 45, loss: 0.3011203110218048\n",
      "epoch: 46, loss: 0.3009152114391327\n",
      "epoch: 47, loss: 0.30073288083076477\n",
      "epoch: 48, loss: 0.30056965351104736\n",
      "epoch: 49, loss: 0.3004222512245178\n"
     ]
    },
    {
     "name": "stderr",
     "output_type": "stream",
     "text": [
      "C:\\Users\\tt\\Anaconda3\\lib\\site-packages\\ipykernel_launcher.py:11: UserWarning: invalid index of a 0-dim tensor. This will be an error in PyTorch 0.5. Use tensor.item() to convert a 0-dim tensor to a Python number\n",
      "  # This is added back by InteractiveShellApp.init_path()\n"
     ]
    }
   ],
   "source": [
    "for e in range(50): # 进行 50 次更新\n",
    "    y_ = linear_model(x_train)\n",
    "    loss = get_loss(y_, y_train)\n",
    "    \n",
    "    w.grad.zero_() # 记得归零梯度\n",
    "    b.grad.zero_() # 记得归零梯度\n",
    "    loss.backward()\n",
    "    \n",
    "    w.data = w.data - 1e-3 * w.grad.data # 更新 w\n",
    "    b.data = b.data - 1e-3 * b.grad.data # 更新 b \n",
    "    print('epoch: {}, loss: {}'.format(e, loss.data[0]))"
   ]
  },
  {
   "cell_type": "code",
   "execution_count": 14,
   "metadata": {},
   "outputs": [
    {
     "name": "stdout",
     "output_type": "stream",
     "text": [
      "epoch: 0, loss: 0.3002880811691284\n",
      "epoch: 1, loss: 0.3129896819591522\n",
      "epoch: 2, loss: 1.4357647895812988\n",
      "epoch: 3, loss: 67.32707977294922\n",
      "epoch: 4, loss: 3913.325927734375\n",
      "epoch: 5, loss: 228380.015625\n",
      "epoch: 6, loss: 13329059.0\n",
      "epoch: 7, loss: 777931648.0\n",
      "epoch: 8, loss: 45402894336.0\n",
      "epoch: 9, loss: 2649875808256.0\n",
      "epoch: 10, loss: 154656252624896.0\n",
      "epoch: 11, loss: 9026296826822656.0\n",
      "epoch: 12, loss: 5.268071851501814e+17\n",
      "epoch: 13, loss: 3.0746356131035087e+19\n",
      "epoch: 14, loss: 1.7944678565125638e+21\n",
      "epoch: 15, loss: 1.0473163267286586e+23\n",
      "epoch: 16, loss: 6.112515998568159e+24\n",
      "epoch: 17, loss: 3.5674844583026444e+26\n",
      "epoch: 18, loss: 2.082111924591427e+28\n",
      "epoch: 19, loss: 1.2151953089151506e+30\n",
      "epoch: 20, loss: 7.092317579703805e+31\n",
      "epoch: 21, loss: 4.139331676829528e+33\n",
      "epoch: 22, loss: 2.415862566691736e+35\n",
      "epoch: 23, loss: 1.4099844378628154e+37\n",
      "epoch: 24, loss: inf\n",
      "epoch: 25, loss: inf\n",
      "epoch: 26, loss: inf\n",
      "epoch: 27, loss: inf\n",
      "epoch: 28, loss: inf\n",
      "epoch: 29, loss: inf\n",
      "epoch: 30, loss: inf\n",
      "epoch: 31, loss: inf\n",
      "epoch: 32, loss: inf\n",
      "epoch: 33, loss: inf\n",
      "epoch: 34, loss: inf\n",
      "epoch: 35, loss: inf\n",
      "epoch: 36, loss: inf\n",
      "epoch: 37, loss: inf\n",
      "epoch: 38, loss: inf\n",
      "epoch: 39, loss: inf\n",
      "epoch: 40, loss: inf\n",
      "epoch: 41, loss: inf\n",
      "epoch: 42, loss: inf\n",
      "epoch: 43, loss: inf\n",
      "epoch: 44, loss: inf\n",
      "epoch: 45, loss: inf\n",
      "epoch: 46, loss: inf\n",
      "epoch: 47, loss: nan\n",
      "epoch: 48, loss: nan\n",
      "epoch: 49, loss: nan\n"
     ]
    },
    {
     "name": "stderr",
     "output_type": "stream",
     "text": [
      "C:\\Users\\tt\\Anaconda3\\lib\\site-packages\\ipykernel_launcher.py:11: UserWarning: invalid index of a 0-dim tensor. This will be an error in PyTorch 0.5. Use tensor.item() to convert a 0-dim tensor to a Python number\n",
      "  # This is added back by InteractiveShellApp.init_path()\n"
     ]
    }
   ],
   "source": [
    "for e in range(50): # 进行 10 次更新\n",
    "    y_ = linear_model(x_train)\n",
    "    loss = get_loss(y_, y_train)\n",
    "    \n",
    "    w.grad.zero_() # 记得归零梯度\n",
    "    b.grad.zero_() # 记得归零梯度\n",
    "    loss.backward()\n",
    "    \n",
    "    w.data = w.data - 1e-1 * w.grad.data # 更新 w\n",
    "    b.data = b.data - 1e-1 * b.grad.data # 更新 b \n",
    "    print('epoch: {}, loss: {}'.format(e, loss.data[0]))"
   ]
  },
  {
   "cell_type": "code",
   "execution_count": 15,
   "metadata": {},
   "outputs": [
    {
     "ename": "SyntaxError",
     "evalue": "invalid syntax (<ipython-input-15-cf3203d8de1a>, line 9)",
     "output_type": "error",
     "traceback": [
      "\u001b[1;36m  File \u001b[1;32m\"<ipython-input-15-cf3203d8de1a>\"\u001b[1;36m, line \u001b[1;32m9\u001b[0m\n\u001b[1;33m    w.data = w.data - 1e-2.5 * w.grad.data # 更新 w\u001b[0m\n\u001b[1;37m                           ^\u001b[0m\n\u001b[1;31mSyntaxError\u001b[0m\u001b[1;31m:\u001b[0m invalid syntax\n"
     ]
    }
   ],
   "source": [
    "for e in range(10): # 进行 10 次更新\n",
    "    y_ = linear_model(x_train)\n",
    "    loss = get_loss(y_, y_train)\n",
    "    \n",
    "    w.grad.zero_() # 记得归零梯度\n",
    "    b.grad.zero_() # 记得归零梯度\n",
    "    loss.backward()\n",
    "    \n",
    "    w.data = w.data - 1e-2.5 * w.grad.data # 更新 w\n",
    "    b.data = b.data - 1e-2.5 * b.grad.data # 更新 b \n",
    "    print('epoch: {}, loss: {}'.format(e, loss.data[0]))"
   ]
  },
  {
   "cell_type": "code",
   "execution_count": 16,
   "metadata": {},
   "outputs": [
    {
     "name": "stdout",
     "output_type": "stream",
     "text": [
      "epoch: 0, loss: nan\n",
      "epoch: 1, loss: nan\n",
      "epoch: 2, loss: nan\n",
      "epoch: 3, loss: nan\n",
      "epoch: 4, loss: nan\n",
      "epoch: 5, loss: nan\n",
      "epoch: 6, loss: nan\n",
      "epoch: 7, loss: nan\n",
      "epoch: 8, loss: nan\n",
      "epoch: 9, loss: nan\n"
     ]
    },
    {
     "name": "stderr",
     "output_type": "stream",
     "text": [
      "C:\\Users\\tt\\Anaconda3\\lib\\site-packages\\ipykernel_launcher.py:11: UserWarning: invalid index of a 0-dim tensor. This will be an error in PyTorch 0.5. Use tensor.item() to convert a 0-dim tensor to a Python number\n",
      "  # This is added back by InteractiveShellApp.init_path()\n"
     ]
    }
   ],
   "source": [
    "for e in range(10): # 进行 10 次更新\n",
    "    y_ = linear_model(x_train)\n",
    "    loss = get_loss(y_, y_train)\n",
    "    \n",
    "    w.grad.zero_() # 记得归零梯度\n",
    "    b.grad.zero_() # 记得归零梯度\n",
    "    loss.backward()\n",
    "    \n",
    "    w.data = w.data - 1e-4 * w.grad.data # 更新 w\n",
    "    b.data = b.data - 1e-4 * b.grad.data # 更新 b \n",
    "    print('epoch: {}, loss: {}'.format(e, loss.data[0]))"
   ]
  },
  {
   "cell_type": "code",
   "execution_count": 17,
   "metadata": {},
   "outputs": [
    {
     "name": "stdout",
     "output_type": "stream",
     "text": [
      "epoch: 0, loss: nan\n",
      "epoch: 1, loss: nan\n",
      "epoch: 2, loss: nan\n",
      "epoch: 3, loss: nan\n",
      "epoch: 4, loss: nan\n",
      "epoch: 5, loss: nan\n",
      "epoch: 6, loss: nan\n",
      "epoch: 7, loss: nan\n",
      "epoch: 8, loss: nan\n",
      "epoch: 9, loss: nan\n",
      "epoch: 10, loss: nan\n",
      "epoch: 11, loss: nan\n",
      "epoch: 12, loss: nan\n",
      "epoch: 13, loss: nan\n",
      "epoch: 14, loss: nan\n",
      "epoch: 15, loss: nan\n",
      "epoch: 16, loss: nan\n",
      "epoch: 17, loss: nan\n",
      "epoch: 18, loss: nan\n",
      "epoch: 19, loss: nan\n",
      "epoch: 20, loss: nan\n",
      "epoch: 21, loss: nan\n",
      "epoch: 22, loss: nan\n",
      "epoch: 23, loss: nan\n",
      "epoch: 24, loss: nan\n",
      "epoch: 25, loss: nan\n",
      "epoch: 26, loss: nan\n",
      "epoch: 27, loss: nan\n",
      "epoch: 28, loss: nan\n",
      "epoch: 29, loss: nan\n",
      "epoch: 30, loss: nan\n",
      "epoch: 31, loss: nan\n",
      "epoch: 32, loss: nan\n",
      "epoch: 33, loss: nan\n",
      "epoch: 34, loss: nan\n",
      "epoch: 35, loss: nan\n",
      "epoch: 36, loss: nan\n",
      "epoch: 37, loss: nan\n",
      "epoch: 38, loss: nan\n",
      "epoch: 39, loss: nan\n",
      "epoch: 40, loss: nan\n",
      "epoch: 41, loss: nan\n",
      "epoch: 42, loss: nan\n",
      "epoch: 43, loss: nan\n",
      "epoch: 44, loss: nan\n",
      "epoch: 45, loss: nan\n",
      "epoch: 46, loss: nan\n",
      "epoch: 47, loss: nan\n",
      "epoch: 48, loss: nan\n",
      "epoch: 49, loss: nan\n"
     ]
    },
    {
     "name": "stderr",
     "output_type": "stream",
     "text": [
      "C:\\Users\\tt\\Anaconda3\\lib\\site-packages\\ipykernel_launcher.py:11: UserWarning: invalid index of a 0-dim tensor. This will be an error in PyTorch 0.5. Use tensor.item() to convert a 0-dim tensor to a Python number\n",
      "  # This is added back by InteractiveShellApp.init_path()\n"
     ]
    }
   ],
   "source": [
    "for e in range(50): # 进行 10 次更新\n",
    "    y_ = linear_model(x_train)\n",
    "    loss = get_loss(y_, y_train)\n",
    "    \n",
    "    w.grad.zero_() # 记得归零梯度\n",
    "    b.grad.zero_() # 记得归零梯度\n",
    "    loss.backward()\n",
    "    \n",
    "    w.data = w.data - 1e-2 * w.grad.data # 更新 w\n",
    "    b.data = b.data - 1e-2 * b.grad.data # 更新 b \n",
    "    print('epoch: {}, loss: {}'.format(e, loss.data[0]))"
   ]
  },
  {
   "cell_type": "code",
   "execution_count": 18,
   "metadata": {},
   "outputs": [
    {
     "name": "stdout",
     "output_type": "stream",
     "text": [
      "epoch: 0, loss: nan\n",
      "epoch: 1, loss: nan\n",
      "epoch: 2, loss: nan\n",
      "epoch: 3, loss: nan\n",
      "epoch: 4, loss: nan\n",
      "epoch: 5, loss: nan\n",
      "epoch: 6, loss: nan\n",
      "epoch: 7, loss: nan\n",
      "epoch: 8, loss: nan\n",
      "epoch: 9, loss: nan\n"
     ]
    },
    {
     "name": "stderr",
     "output_type": "stream",
     "text": [
      "C:\\Users\\tt\\Anaconda3\\lib\\site-packages\\ipykernel_launcher.py:11: UserWarning: invalid index of a 0-dim tensor. This will be an error in PyTorch 0.5. Use tensor.item() to convert a 0-dim tensor to a Python number\n",
      "  # This is added back by InteractiveShellApp.init_path()\n"
     ]
    }
   ],
   "source": [
    "for e in range(10): # 进行 10 次更新\n",
    "    y_ = linear_model(x_train)\n",
    "    loss = get_loss(y_, y_train)\n",
    "    \n",
    "    w.grad.zero_() # 记得归零梯度\n",
    "    b.grad.zero_() # 记得归零梯度\n",
    "    loss.backward()\n",
    "    \n",
    "    w.data = w.data - 1e-2 * w.grad.data # 更新 w\n",
    "    b.data = b.data - 1e-2 * b.grad.data # 更新 b \n",
    "    print('epoch: {}, loss: {}'.format(e, loss.data[0]))"
   ]
  },
  {
   "cell_type": "code",
   "execution_count": null,
   "metadata": {},
   "outputs": [],
   "source": []
  }
 ],
 "metadata": {
  "kernelspec": {
   "display_name": "Python 3",
   "language": "python",
   "name": "python3"
  },
  "language_info": {
   "codemirror_mode": {
    "name": "ipython",
    "version": 3
   },
   "file_extension": ".py",
   "mimetype": "text/x-python",
   "name": "python",
   "nbconvert_exporter": "python",
   "pygments_lexer": "ipython3",
   "version": "3.6.4"
  }
 },
 "nbformat": 4,
 "nbformat_minor": 2
}
